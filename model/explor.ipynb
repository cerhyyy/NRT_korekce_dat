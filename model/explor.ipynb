{
 "cells": [
  {
   "cell_type": "code",
   "execution_count": 16,
   "metadata": {},
   "outputs": [],
   "source": [
    "import pandas as pd\n",
    "\n",
    "df = pd.read_csv(r'..\\data\\sarze_5\\teplota\\gw1100a_outdoor_temperature.csv')\n",
    "\n"
   ]
  },
  {
   "cell_type": "code",
   "execution_count": 17,
   "metadata": {},
   "outputs": [
    {
     "data": {
      "text/html": [
       "<div>\n",
       "<style scoped>\n",
       "    .dataframe tbody tr th:only-of-type {\n",
       "        vertical-align: middle;\n",
       "    }\n",
       "\n",
       "    .dataframe tbody tr th {\n",
       "        vertical-align: top;\n",
       "    }\n",
       "\n",
       "    .dataframe thead th {\n",
       "        text-align: right;\n",
       "    }\n",
       "</style>\n",
       "<table border=\"1\" class=\"dataframe\">\n",
       "  <thead>\n",
       "    <tr style=\"text-align: right;\">\n",
       "      <th></th>\n",
       "      <th>time</th>\n",
       "      <th>value</th>\n",
       "    </tr>\n",
       "  </thead>\n",
       "  <tbody>\n",
       "    <tr>\n",
       "      <th>0</th>\n",
       "      <td>2025-03-04T00:01:57.101829Z</td>\n",
       "      <td>0.6</td>\n",
       "    </tr>\n",
       "    <tr>\n",
       "      <th>1</th>\n",
       "      <td>2025-03-04T00:07:53.523792Z</td>\n",
       "      <td>0.5</td>\n",
       "    </tr>\n",
       "    <tr>\n",
       "      <th>2</th>\n",
       "      <td>2025-03-04T00:15:53.589782Z</td>\n",
       "      <td>0.4</td>\n",
       "    </tr>\n",
       "    <tr>\n",
       "      <th>3</th>\n",
       "      <td>2025-03-04T00:25:53.991126Z</td>\n",
       "      <td>0.3</td>\n",
       "    </tr>\n",
       "    <tr>\n",
       "      <th>4</th>\n",
       "      <td>2025-03-04T00:48:54.185508Z</td>\n",
       "      <td>0.2</td>\n",
       "    </tr>\n",
       "  </tbody>\n",
       "</table>\n",
       "</div>"
      ],
      "text/plain": [
       "                          time  value\n",
       "0  2025-03-04T00:01:57.101829Z    0.6\n",
       "1  2025-03-04T00:07:53.523792Z    0.5\n",
       "2  2025-03-04T00:15:53.589782Z    0.4\n",
       "3  2025-03-04T00:25:53.991126Z    0.3\n",
       "4  2025-03-04T00:48:54.185508Z    0.2"
      ]
     },
     "execution_count": 17,
     "metadata": {},
     "output_type": "execute_result"
    }
   ],
   "source": [
    "df.head()"
   ]
  },
  {
   "cell_type": "code",
   "execution_count": 18,
   "metadata": {},
   "outputs": [
    {
     "name": "stdout",
     "output_type": "stream",
     "text": [
      "\n",
      "Time interval statistics (in seconds):\n",
      "count                        14767\n",
      "mean     0 days 00:05:49.646681934\n",
      "std      0 days 00:20:06.066824017\n",
      "min         0 days 00:00:54.268934\n",
      "25%      0 days 00:02:00.009605500\n",
      "50%         0 days 00:03:00.031855\n",
      "75%      0 days 00:06:00.053882500\n",
      "max         0 days 23:10:53.433327\n",
      "Name: time_diff, dtype: object\n",
      "median:  0 days 00:03:00.031855\n",
      "                                  time  value              time_diff\n",
      "13504 2025-04-24 19:12:47.889297+00:00   12.2 0 days 23:10:53.433327\n"
     ]
    }
   ],
   "source": [
    "# Convert time column to datetime\n",
    "df['time'] = pd.to_datetime(df['time'])\n",
    "\n",
    "\n",
    "\n",
    "\n",
    "# Get statistics on time intervals\n",
    "df.sort_values(by='time', inplace=True)\n",
    "df['time_diff'] = df['time'].diff()\n",
    "time_diff_stats = df['time_diff'].describe()\n",
    "print(\"\\nTime interval statistics (in seconds):\")\n",
    "print(time_diff_stats)\n",
    "print(\"median: \", df[\"time_diff\"].median())\n",
    "\n",
    "print(df[df[\"time_diff\"] > pd.Timedelta(hours=20)])\n",
    "\n",
    "\n"
   ]
  },
  {
   "cell_type": "code",
   "execution_count": 20,
   "metadata": {},
   "outputs": [],
   "source": [
    "df['time'] = df['time'].dt.tz_convert('Europe/Prague')"
   ]
  },
  {
   "cell_type": "code",
   "execution_count": 21,
   "metadata": {},
   "outputs": [
    {
     "name": "stdout",
     "output_type": "stream",
     "text": [
      "                              time  value              time_diff\n",
      "0 2025-03-04 01:01:57.101829+01:00    0.6                    NaT\n",
      "1 2025-03-04 01:07:53.523792+01:00    0.5 0 days 00:05:56.421963\n",
      "2 2025-03-04 01:15:53.589782+01:00    0.4 0 days 00:08:00.065990\n",
      "3 2025-03-04 01:25:53.991126+01:00    0.3 0 days 00:10:00.401344\n",
      "4 2025-03-04 01:48:54.185508+01:00    0.2 0 days 00:23:00.194382\n"
     ]
    }
   ],
   "source": [
    "print(df.head())"
   ]
  },
  {
   "cell_type": "code",
   "execution_count": null,
   "metadata": {},
   "outputs": [],
   "source": [
    "def parse(s):\n",
    "    try:\n",
    "\n",
    "        # Parse timestamp, handling all timezone formats\n",
    "        time_str = data['time']\n",
    "        print(time_str)\n",
    "        \n",
    "        # Check if timestamp already has timezone information\n",
    "        if 'Z' in time_str or '+' in time_str or '-' in time_str:\n",
    "            # If it has timezone info, parse it directly\n",
    "            timestamp = datetime.datetime.fromisoformat(time_str)\n",
    "        else:\n",
    "            # If no timezone info, assume UTC and add it\n",
    "            timestamp = datetime.datetime.fromisoformat(time_str + '+00:00')\n",
    "            \n",
    "        # Convert to UTC if not already in UTC\n",
    "        if timestamp.tzinfo is not None:\n",
    "            timestamp = timestamp.astimezone(datetime.timezone.utc)\n",
    "            \n",
    "        value = float(data['value'])\n",
    "        source = data.get('source', '')\n",
    "        additional_value = float(data.get('processing_time_ms', 0.0))  # Default to 0.0 if not present\n",
    "        return timestamp, value, source, additional_value\n",
    "    except (json.JSONDecodeError, KeyError, ValueError) as e:\n",
    "        print(f\"Error parsing message: {e}, message: {s[:100]}...\")\n",
    "        # Return default values or re-raise based on your error handling strategy\n",
    "        raise"
   ]
  },
  {
   "cell_type": "code",
   "execution_count": 29,
   "metadata": {},
   "outputs": [
    {
     "name": "stdout",
     "output_type": "stream",
     "text": [
      "0    2025-03-04 01:01:57.101829+02:00\n",
      "1    2025-03-04 01:07:53.523792+03:00\n",
      "2           2025-03-04 01:13:50+00:00\n",
      "3    2025-03-04 01:25:53.991126+01:00\n",
      "4    2025-03-04 01:48:54.185508+01:00\n",
      "5    2025-03-04 02:00:54.287672+01:00\n",
      "6    2025-03-04 02:09:53.474411+01:00\n",
      "7    2025-03-04 02:19:53.849728+01:00\n",
      "8    2025-03-04 02:33:53.963139+01:00\n",
      "9    2025-03-04 02:44:54.075064+01:00\n",
      "Name: time, dtype: object\n"
     ]
    }
   ],
   "source": [
    "df.iloc[0,0] = pd.to_datetime(\"2025-03-04 01:01:57.101829+02:00\")\n",
    "df.iloc[1,0] = pd.to_datetime(\"2025-03-04 01:07:53.523792+03:00\")\n",
    "df.iloc[2,0] = pd.to_datetime(\"2025-03-04 01:13:50.000000+04:00\")\n",
    "df.iloc[2,0] = pd.to_datetime(\"2025-03-04 01:13:50.000000Z\")\n",
    "\n",
    "\n",
    "print(df['time'][:10])\n"
   ]
  },
  {
   "cell_type": "code",
   "execution_count": 31,
   "metadata": {},
   "outputs": [
    {
     "name": "stdout",
     "output_type": "stream",
     "text": [
      "incoming time:  2025-03-04 01:01:57.101829+02:00\n",
      "outgoing time:  2025-03-03 23:01:57.101829+00:00\n",
      "incoming time:  2025-03-04 01:07:53.523792+03:00\n",
      "outgoing time:  2025-03-03 22:07:53.523792+00:00\n",
      "incoming time:  2025-03-04 01:13:50+00:00\n",
      "outgoing time:  2025-03-04 01:13:50+00:00\n",
      "incoming time:  2025-03-04 01:25:53.991126+01:00\n",
      "outgoing time:  2025-03-04 00:25:53.991126+00:00\n",
      "incoming time:  2025-03-04 01:48:54.185508+01:00\n",
      "outgoing time:  2025-03-04 00:48:54.185508+00:00\n",
      "incoming time:  2025-03-04 02:00:54.287672+01:00\n",
      "outgoing time:  2025-03-04 01:00:54.287672+00:00\n",
      "incoming time:  2025-03-04 02:09:53.474411+01:00\n",
      "outgoing time:  2025-03-04 01:09:53.474411+00:00\n",
      "incoming time:  2025-03-04 02:19:53.849728+01:00\n",
      "outgoing time:  2025-03-04 01:19:53.849728+00:00\n",
      "incoming time:  2025-03-04 02:33:53.963139+01:00\n",
      "outgoing time:  2025-03-04 01:33:53.963139+00:00\n",
      "incoming time:  2025-03-04 02:44:54.075064+01:00\n",
      "outgoing time:  2025-03-04 01:44:54.075064+00:00\n"
     ]
    }
   ],
   "source": [
    "# testování časového převodu\n",
    "\n",
    "\n",
    "import datetime\n",
    "# Parse timestamp, handling all timezone formats\n",
    "for i in range(10):\n",
    "    time_str = str(df['time'][i])\n",
    "    print(\"incoming time: \", time_str)\n",
    "\n",
    "    # Check if timestamp already has timezone information\n",
    "    if 'Z' in time_str or '+' in time_str or '-' in time_str:\n",
    "        # If it has timezone info, parse it directly\n",
    "        timestamp = datetime.datetime.fromisoformat(time_str)\n",
    "    else:\n",
    "        # If no timezone info, assume UTC and add it\n",
    "        timestamp = datetime.datetime.fromisoformat(time_str + '+00:00')\n",
    "        \n",
    "    # Convert to UTC if not already in UTC\n",
    "    if timestamp.tzinfo is not None:\n",
    "        timestamp = timestamp.astimezone(datetime.timezone.utc)\n",
    "    print(\"outgoing time: \", timestamp)"
   ]
  }
 ],
 "metadata": {
  "kernelspec": {
   "display_name": "Python 3",
   "language": "python",
   "name": "python3"
  },
  "language_info": {
   "codemirror_mode": {
    "name": "ipython",
    "version": 3
   },
   "file_extension": ".py",
   "mimetype": "text/x-python",
   "name": "python",
   "nbconvert_exporter": "python",
   "pygments_lexer": "ipython3",
   "version": "3.10.11"
  }
 },
 "nbformat": 4,
 "nbformat_minor": 2
}
